{
 "cells": [
  {
   "cell_type": "code",
   "execution_count": 129,
   "id": "cabfb48b",
   "metadata": {},
   "outputs": [],
   "source": [
    "import matplotlib.pyplot as plt\n",
    "import pandas as pd\n",
    "import numpy as np\n",
    "import seaborn as sns\n",
    "\n",
    "from sklearn.preprocessing import LabelEncoder\n",
    "from sklearn.model_selection import train_test_split\n",
    "from sklearn import metrics\n",
    "from sklearn.linear_model import LinearRegression\n",
    "from sklearn.preprocessing import OneHotEncoder\n",
    "from sklearn.ensemble import RandomForestRegressor\n",
    "from xgboost import XGBRegressor\n",
    "from sklearn.model_selection import GridSearchCV\n",
    "\n",
    "import warnings\n",
    "warnings.filterwarnings('always')\n",
    "warnings.filterwarnings('ignore')"
   ]
  },
  {
   "cell_type": "code",
   "execution_count": 130,
   "id": "5cc6f941",
   "metadata": {},
   "outputs": [],
   "source": [
    "df_train = pd.read_csv('train_go05W65.csv')\n",
    "# df = X.copy()\n",
    "df_test = pd.read_csv('test_VkM91FT.csv')\n",
    "tst =df_test = pd.read_csv('test_VkM91FT.csv')\n",
    "SAM = pd.read_csv('sample_submission_kF044ur.csv')"
   ]
  },
  {
   "cell_type": "code",
   "execution_count": 131,
   "id": "89f061d4",
   "metadata": {},
   "outputs": [
    {
     "data": {
      "text/html": [
       "<div>\n",
       "<style scoped>\n",
       "    .dataframe tbody tr th:only-of-type {\n",
       "        vertical-align: middle;\n",
       "    }\n",
       "\n",
       "    .dataframe tbody tr th {\n",
       "        vertical-align: top;\n",
       "    }\n",
       "\n",
       "    .dataframe thead th {\n",
       "        text-align: right;\n",
       "    }\n",
       "</style>\n",
       "<table border=\"1\" class=\"dataframe\">\n",
       "  <thead>\n",
       "    <tr style=\"text-align: right;\">\n",
       "      <th></th>\n",
       "      <th>Customer_ID</th>\n",
       "      <th>Gender</th>\n",
       "      <th>Age</th>\n",
       "      <th>Vintage</th>\n",
       "      <th>Is_Active</th>\n",
       "      <th>City_Category</th>\n",
       "      <th>Customer_Category</th>\n",
       "      <th>Product_Holding_B1</th>\n",
       "      <th>Product_Holding_B2</th>\n",
       "    </tr>\n",
       "  </thead>\n",
       "  <tbody>\n",
       "    <tr>\n",
       "      <th>0</th>\n",
       "      <td>CC264719</td>\n",
       "      <td>Male</td>\n",
       "      <td>41</td>\n",
       "      <td>14</td>\n",
       "      <td>0</td>\n",
       "      <td>C1</td>\n",
       "      <td>S3</td>\n",
       "      <td>['P16']</td>\n",
       "      <td>['P8']</td>\n",
       "    </tr>\n",
       "    <tr>\n",
       "      <th>1</th>\n",
       "      <td>CC209679</td>\n",
       "      <td>Female</td>\n",
       "      <td>47</td>\n",
       "      <td>14</td>\n",
       "      <td>1</td>\n",
       "      <td>C1</td>\n",
       "      <td>S2</td>\n",
       "      <td>['P13', 'P20']</td>\n",
       "      <td>['P3']</td>\n",
       "    </tr>\n",
       "    <tr>\n",
       "      <th>2</th>\n",
       "      <td>CC319633</td>\n",
       "      <td>Female</td>\n",
       "      <td>59</td>\n",
       "      <td>14</td>\n",
       "      <td>0</td>\n",
       "      <td>C2</td>\n",
       "      <td>S2</td>\n",
       "      <td>['P11']</td>\n",
       "      <td>['P00']</td>\n",
       "    </tr>\n",
       "    <tr>\n",
       "      <th>3</th>\n",
       "      <td>CC231413</td>\n",
       "      <td>Female</td>\n",
       "      <td>32</td>\n",
       "      <td>16</td>\n",
       "      <td>0</td>\n",
       "      <td>C1</td>\n",
       "      <td>S2</td>\n",
       "      <td>['P8', 'P13']</td>\n",
       "      <td>['P6']</td>\n",
       "    </tr>\n",
       "    <tr>\n",
       "      <th>4</th>\n",
       "      <td>CC259633</td>\n",
       "      <td>Male</td>\n",
       "      <td>30</td>\n",
       "      <td>15</td>\n",
       "      <td>0</td>\n",
       "      <td>C2</td>\n",
       "      <td>S3</td>\n",
       "      <td>['P16', 'P17', 'P21']</td>\n",
       "      <td>['P8', 'P12']</td>\n",
       "    </tr>\n",
       "  </tbody>\n",
       "</table>\n",
       "</div>"
      ],
      "text/plain": [
       "  Customer_ID  Gender  Age  Vintage  Is_Active City_Category  \\\n",
       "0    CC264719    Male   41       14          0            C1   \n",
       "1    CC209679  Female   47       14          1            C1   \n",
       "2    CC319633  Female   59       14          0            C2   \n",
       "3    CC231413  Female   32       16          0            C1   \n",
       "4    CC259633    Male   30       15          0            C2   \n",
       "\n",
       "  Customer_Category     Product_Holding_B1 Product_Holding_B2  \n",
       "0                S3                ['P16']             ['P8']  \n",
       "1                S2         ['P13', 'P20']             ['P3']  \n",
       "2                S2                ['P11']            ['P00']  \n",
       "3                S2          ['P8', 'P13']             ['P6']  \n",
       "4                S3  ['P16', 'P17', 'P21']      ['P8', 'P12']  "
      ]
     },
     "execution_count": 131,
     "metadata": {},
     "output_type": "execute_result"
    }
   ],
   "source": [
    "df_train.head()"
   ]
  },
  {
   "cell_type": "code",
   "execution_count": 132,
   "id": "d924d01b",
   "metadata": {},
   "outputs": [
    {
     "data": {
      "text/html": [
       "<div>\n",
       "<style scoped>\n",
       "    .dataframe tbody tr th:only-of-type {\n",
       "        vertical-align: middle;\n",
       "    }\n",
       "\n",
       "    .dataframe tbody tr th {\n",
       "        vertical-align: top;\n",
       "    }\n",
       "\n",
       "    .dataframe thead th {\n",
       "        text-align: right;\n",
       "    }\n",
       "</style>\n",
       "<table border=\"1\" class=\"dataframe\">\n",
       "  <thead>\n",
       "    <tr style=\"text-align: right;\">\n",
       "      <th></th>\n",
       "      <th>Customer_ID</th>\n",
       "      <th>Gender</th>\n",
       "      <th>Age</th>\n",
       "      <th>Vintage</th>\n",
       "      <th>Is_Active</th>\n",
       "      <th>City_Category</th>\n",
       "      <th>Customer_Category</th>\n",
       "      <th>Product_Holding_B1</th>\n",
       "    </tr>\n",
       "  </thead>\n",
       "  <tbody>\n",
       "    <tr>\n",
       "      <th>0</th>\n",
       "      <td>CC372708</td>\n",
       "      <td>Female</td>\n",
       "      <td>31</td>\n",
       "      <td>31</td>\n",
       "      <td>0</td>\n",
       "      <td>C2</td>\n",
       "      <td>S3</td>\n",
       "      <td>['P12', 'P13']</td>\n",
       "    </tr>\n",
       "    <tr>\n",
       "      <th>1</th>\n",
       "      <td>CC216072</td>\n",
       "      <td>Male</td>\n",
       "      <td>28</td>\n",
       "      <td>37</td>\n",
       "      <td>1</td>\n",
       "      <td>C1</td>\n",
       "      <td>S2</td>\n",
       "      <td>['P12', 'P13']</td>\n",
       "    </tr>\n",
       "    <tr>\n",
       "      <th>2</th>\n",
       "      <td>CC387629</td>\n",
       "      <td>Male</td>\n",
       "      <td>31</td>\n",
       "      <td>12</td>\n",
       "      <td>0</td>\n",
       "      <td>C2</td>\n",
       "      <td>S3</td>\n",
       "      <td>['P20']</td>\n",
       "    </tr>\n",
       "    <tr>\n",
       "      <th>3</th>\n",
       "      <td>CC389228</td>\n",
       "      <td>Female</td>\n",
       "      <td>55</td>\n",
       "      <td>11</td>\n",
       "      <td>0</td>\n",
       "      <td>C2</td>\n",
       "      <td>S2</td>\n",
       "      <td>['P13', 'P21']</td>\n",
       "    </tr>\n",
       "    <tr>\n",
       "      <th>4</th>\n",
       "      <td>CC394445</td>\n",
       "      <td>Male</td>\n",
       "      <td>51</td>\n",
       "      <td>49</td>\n",
       "      <td>1</td>\n",
       "      <td>C2</td>\n",
       "      <td>S1</td>\n",
       "      <td>['P13']</td>\n",
       "    </tr>\n",
       "  </tbody>\n",
       "</table>\n",
       "</div>"
      ],
      "text/plain": [
       "  Customer_ID  Gender  Age  Vintage  Is_Active City_Category  \\\n",
       "0    CC372708  Female   31       31          0            C2   \n",
       "1    CC216072    Male   28       37          1            C1   \n",
       "2    CC387629    Male   31       12          0            C2   \n",
       "3    CC389228  Female   55       11          0            C2   \n",
       "4    CC394445    Male   51       49          1            C2   \n",
       "\n",
       "  Customer_Category Product_Holding_B1  \n",
       "0                S3     ['P12', 'P13']  \n",
       "1                S2     ['P12', 'P13']  \n",
       "2                S3            ['P20']  \n",
       "3                S2     ['P13', 'P21']  \n",
       "4                S1            ['P13']  "
      ]
     },
     "execution_count": 132,
     "metadata": {},
     "output_type": "execute_result"
    }
   ],
   "source": [
    "df_test.head()"
   ]
  },
  {
   "cell_type": "code",
   "execution_count": 133,
   "id": "a02750dc",
   "metadata": {},
   "outputs": [
    {
     "data": {
      "text/html": [
       "<div>\n",
       "<style scoped>\n",
       "    .dataframe tbody tr th:only-of-type {\n",
       "        vertical-align: middle;\n",
       "    }\n",
       "\n",
       "    .dataframe tbody tr th {\n",
       "        vertical-align: top;\n",
       "    }\n",
       "\n",
       "    .dataframe thead th {\n",
       "        text-align: right;\n",
       "    }\n",
       "</style>\n",
       "<table border=\"1\" class=\"dataframe\">\n",
       "  <thead>\n",
       "    <tr style=\"text-align: right;\">\n",
       "      <th></th>\n",
       "      <th>Customer_ID</th>\n",
       "      <th>Product_Holding_B2</th>\n",
       "    </tr>\n",
       "  </thead>\n",
       "  <tbody>\n",
       "    <tr>\n",
       "      <th>0</th>\n",
       "      <td>CC372708</td>\n",
       "      <td>['P00']</td>\n",
       "    </tr>\n",
       "    <tr>\n",
       "      <th>1</th>\n",
       "      <td>CC216072</td>\n",
       "      <td>['P00']</td>\n",
       "    </tr>\n",
       "    <tr>\n",
       "      <th>2</th>\n",
       "      <td>CC387629</td>\n",
       "      <td>['P00']</td>\n",
       "    </tr>\n",
       "    <tr>\n",
       "      <th>3</th>\n",
       "      <td>CC389228</td>\n",
       "      <td>['P00']</td>\n",
       "    </tr>\n",
       "    <tr>\n",
       "      <th>4</th>\n",
       "      <td>CC394445</td>\n",
       "      <td>['P00']</td>\n",
       "    </tr>\n",
       "  </tbody>\n",
       "</table>\n",
       "</div>"
      ],
      "text/plain": [
       "  Customer_ID Product_Holding_B2\n",
       "0    CC372708            ['P00']\n",
       "1    CC216072            ['P00']\n",
       "2    CC387629            ['P00']\n",
       "3    CC389228            ['P00']\n",
       "4    CC394445            ['P00']"
      ]
     },
     "execution_count": 133,
     "metadata": {},
     "output_type": "execute_result"
    }
   ],
   "source": [
    "SAM.head()\n",
    "# type(SAM.head()['Product_Holding_B2'][1])  #--->str dtype"
   ]
  },
  {
   "cell_type": "code",
   "execution_count": 134,
   "id": "0e38597a",
   "metadata": {},
   "outputs": [
    {
     "data": {
      "text/plain": [
       "str"
      ]
     },
     "execution_count": 134,
     "metadata": {},
     "output_type": "execute_result"
    }
   ],
   "source": [
    "type(df_train.Product_Holding_B1[1])"
   ]
  },
  {
   "cell_type": "markdown",
   "id": "9563af52",
   "metadata": {},
   "source": [
    "# converting string type to list type columns"
   ]
  },
  {
   "cell_type": "code",
   "execution_count": 135,
   "id": "6b7556a6",
   "metadata": {},
   "outputs": [],
   "source": [
    "df_train['Product_Holding_B1']= df_train.Product_Holding_B1.apply(eval) \n",
    "df_train['Product_Holding_B2']= df_train.Product_Holding_B2.apply(eval) "
   ]
  },
  {
   "cell_type": "code",
   "execution_count": 136,
   "id": "dfd7ffa2",
   "metadata": {},
   "outputs": [],
   "source": [
    "df_test['Product_Holding_B1']= df_test.Product_Holding_B1.apply(eval) "
   ]
  },
  {
   "cell_type": "code",
   "execution_count": 137,
   "id": "abc3542d",
   "metadata": {},
   "outputs": [
    {
     "data": {
      "text/html": [
       "<div>\n",
       "<style scoped>\n",
       "    .dataframe tbody tr th:only-of-type {\n",
       "        vertical-align: middle;\n",
       "    }\n",
       "\n",
       "    .dataframe tbody tr th {\n",
       "        vertical-align: top;\n",
       "    }\n",
       "\n",
       "    .dataframe thead th {\n",
       "        text-align: right;\n",
       "    }\n",
       "</style>\n",
       "<table border=\"1\" class=\"dataframe\">\n",
       "  <thead>\n",
       "    <tr style=\"text-align: right;\">\n",
       "      <th></th>\n",
       "      <th>Customer_ID</th>\n",
       "      <th>Gender</th>\n",
       "      <th>Age</th>\n",
       "      <th>Vintage</th>\n",
       "      <th>Is_Active</th>\n",
       "      <th>City_Category</th>\n",
       "      <th>Customer_Category</th>\n",
       "      <th>Product_Holding_B1</th>\n",
       "      <th>Product_Holding_B2</th>\n",
       "    </tr>\n",
       "  </thead>\n",
       "  <tbody>\n",
       "    <tr>\n",
       "      <th>0</th>\n",
       "      <td>CC264719</td>\n",
       "      <td>Male</td>\n",
       "      <td>41</td>\n",
       "      <td>14</td>\n",
       "      <td>0</td>\n",
       "      <td>C1</td>\n",
       "      <td>S3</td>\n",
       "      <td>[P16]</td>\n",
       "      <td>[P8]</td>\n",
       "    </tr>\n",
       "    <tr>\n",
       "      <th>1</th>\n",
       "      <td>CC209679</td>\n",
       "      <td>Female</td>\n",
       "      <td>47</td>\n",
       "      <td>14</td>\n",
       "      <td>1</td>\n",
       "      <td>C1</td>\n",
       "      <td>S2</td>\n",
       "      <td>[P13, P20]</td>\n",
       "      <td>[P3]</td>\n",
       "    </tr>\n",
       "    <tr>\n",
       "      <th>2</th>\n",
       "      <td>CC319633</td>\n",
       "      <td>Female</td>\n",
       "      <td>59</td>\n",
       "      <td>14</td>\n",
       "      <td>0</td>\n",
       "      <td>C2</td>\n",
       "      <td>S2</td>\n",
       "      <td>[P11]</td>\n",
       "      <td>[P00]</td>\n",
       "    </tr>\n",
       "    <tr>\n",
       "      <th>3</th>\n",
       "      <td>CC231413</td>\n",
       "      <td>Female</td>\n",
       "      <td>32</td>\n",
       "      <td>16</td>\n",
       "      <td>0</td>\n",
       "      <td>C1</td>\n",
       "      <td>S2</td>\n",
       "      <td>[P8, P13]</td>\n",
       "      <td>[P6]</td>\n",
       "    </tr>\n",
       "    <tr>\n",
       "      <th>4</th>\n",
       "      <td>CC259633</td>\n",
       "      <td>Male</td>\n",
       "      <td>30</td>\n",
       "      <td>15</td>\n",
       "      <td>0</td>\n",
       "      <td>C2</td>\n",
       "      <td>S3</td>\n",
       "      <td>[P16, P17, P21]</td>\n",
       "      <td>[P8, P12]</td>\n",
       "    </tr>\n",
       "  </tbody>\n",
       "</table>\n",
       "</div>"
      ],
      "text/plain": [
       "  Customer_ID  Gender  Age  Vintage  Is_Active City_Category  \\\n",
       "0    CC264719    Male   41       14          0            C1   \n",
       "1    CC209679  Female   47       14          1            C1   \n",
       "2    CC319633  Female   59       14          0            C2   \n",
       "3    CC231413  Female   32       16          0            C1   \n",
       "4    CC259633    Male   30       15          0            C2   \n",
       "\n",
       "  Customer_Category Product_Holding_B1 Product_Holding_B2  \n",
       "0                S3              [P16]               [P8]  \n",
       "1                S2         [P13, P20]               [P3]  \n",
       "2                S2              [P11]              [P00]  \n",
       "3                S2          [P8, P13]               [P6]  \n",
       "4                S3    [P16, P17, P21]          [P8, P12]  "
      ]
     },
     "execution_count": 137,
     "metadata": {},
     "output_type": "execute_result"
    }
   ],
   "source": [
    "df_train.head()"
   ]
  },
  {
   "cell_type": "code",
   "execution_count": 138,
   "id": "b1fd4d70",
   "metadata": {},
   "outputs": [
    {
     "data": {
      "text/html": [
       "<div>\n",
       "<style scoped>\n",
       "    .dataframe tbody tr th:only-of-type {\n",
       "        vertical-align: middle;\n",
       "    }\n",
       "\n",
       "    .dataframe tbody tr th {\n",
       "        vertical-align: top;\n",
       "    }\n",
       "\n",
       "    .dataframe thead th {\n",
       "        text-align: right;\n",
       "    }\n",
       "</style>\n",
       "<table border=\"1\" class=\"dataframe\">\n",
       "  <thead>\n",
       "    <tr style=\"text-align: right;\">\n",
       "      <th></th>\n",
       "      <th>Customer_ID</th>\n",
       "      <th>Gender</th>\n",
       "      <th>Age</th>\n",
       "      <th>Vintage</th>\n",
       "      <th>Is_Active</th>\n",
       "      <th>City_Category</th>\n",
       "      <th>Customer_Category</th>\n",
       "      <th>Product_Holding_B1</th>\n",
       "    </tr>\n",
       "  </thead>\n",
       "  <tbody>\n",
       "    <tr>\n",
       "      <th>0</th>\n",
       "      <td>CC372708</td>\n",
       "      <td>Female</td>\n",
       "      <td>31</td>\n",
       "      <td>31</td>\n",
       "      <td>0</td>\n",
       "      <td>C2</td>\n",
       "      <td>S3</td>\n",
       "      <td>[P12, P13]</td>\n",
       "    </tr>\n",
       "    <tr>\n",
       "      <th>1</th>\n",
       "      <td>CC216072</td>\n",
       "      <td>Male</td>\n",
       "      <td>28</td>\n",
       "      <td>37</td>\n",
       "      <td>1</td>\n",
       "      <td>C1</td>\n",
       "      <td>S2</td>\n",
       "      <td>[P12, P13]</td>\n",
       "    </tr>\n",
       "    <tr>\n",
       "      <th>2</th>\n",
       "      <td>CC387629</td>\n",
       "      <td>Male</td>\n",
       "      <td>31</td>\n",
       "      <td>12</td>\n",
       "      <td>0</td>\n",
       "      <td>C2</td>\n",
       "      <td>S3</td>\n",
       "      <td>[P20]</td>\n",
       "    </tr>\n",
       "    <tr>\n",
       "      <th>3</th>\n",
       "      <td>CC389228</td>\n",
       "      <td>Female</td>\n",
       "      <td>55</td>\n",
       "      <td>11</td>\n",
       "      <td>0</td>\n",
       "      <td>C2</td>\n",
       "      <td>S2</td>\n",
       "      <td>[P13, P21]</td>\n",
       "    </tr>\n",
       "    <tr>\n",
       "      <th>4</th>\n",
       "      <td>CC394445</td>\n",
       "      <td>Male</td>\n",
       "      <td>51</td>\n",
       "      <td>49</td>\n",
       "      <td>1</td>\n",
       "      <td>C2</td>\n",
       "      <td>S1</td>\n",
       "      <td>[P13]</td>\n",
       "    </tr>\n",
       "  </tbody>\n",
       "</table>\n",
       "</div>"
      ],
      "text/plain": [
       "  Customer_ID  Gender  Age  Vintage  Is_Active City_Category  \\\n",
       "0    CC372708  Female   31       31          0            C2   \n",
       "1    CC216072    Male   28       37          1            C1   \n",
       "2    CC387629    Male   31       12          0            C2   \n",
       "3    CC389228  Female   55       11          0            C2   \n",
       "4    CC394445    Male   51       49          1            C2   \n",
       "\n",
       "  Customer_Category Product_Holding_B1  \n",
       "0                S3         [P12, P13]  \n",
       "1                S2         [P12, P13]  \n",
       "2                S3              [P20]  \n",
       "3                S2         [P13, P21]  \n",
       "4                S1              [P13]  "
      ]
     },
     "execution_count": 138,
     "metadata": {},
     "output_type": "execute_result"
    }
   ],
   "source": [
    "df_test.head()"
   ]
  },
  {
   "cell_type": "code",
   "execution_count": 139,
   "id": "a66b1bd2",
   "metadata": {},
   "outputs": [
    {
     "data": {
      "text/plain": [
       "['P12', 'P13']"
      ]
     },
     "execution_count": 139,
     "metadata": {},
     "output_type": "execute_result"
    }
   ],
   "source": [
    "df_test.Product_Holding_B1[1]"
   ]
  },
  {
   "cell_type": "code",
   "execution_count": null,
   "id": "e1023077",
   "metadata": {},
   "outputs": [],
   "source": []
  },
  {
   "cell_type": "markdown",
   "id": "13df921f",
   "metadata": {},
   "source": [
    "# Dealing with list columns"
   ]
  },
  {
   "cell_type": "markdown",
   "id": "3b9eeaf4",
   "metadata": {},
   "source": [
    "<!-- Dealing with List columns -->"
   ]
  },
  {
   "cell_type": "markdown",
   "id": "bd919395",
   "metadata": {},
   "source": [
    "https://towardsdatascience.com/dealing-with-list-values-in-pandas-dataframes-a177e534f173\n",
    "convert Target Variables to list while loading the csv\n",
    "\n",
    "from ast import literal_eval\n",
    "df = pd.read_csv('test.csv', converters={'col1': literal_eval})\n",
    "\n",
    "as mentioned in below link:\n",
    "https://stackoverflow.com/questions/23111990/pandas-dataframe-stored-list-as-string-how-to-convert-back-to-list/23112008\n",
    "\n",
    "following which you can one hot encode the target variable using the method mentioned in the following link:\n",
    "https://stackoverflow.com/questions/45312377/how-to-one-hot-encode-from-a-pandas-column-containing-a-list    \n",
    " \n",
    "https://realpython.com/python-eval-function/#minimizing-the-security-issues-of-eval\n",
    "\n",
    "https://it-qa.com/how-do-you-predict-multi-label-classification/\n",
    "\n",
    "\n",
    "https://www.analyticsvidhya.com/blog/2017/08/introduction-to-multi-label-classification/"
   ]
  },
  {
   "cell_type": "code",
   "execution_count": 140,
   "id": "a2a4a15f",
   "metadata": {},
   "outputs": [],
   "source": [
    "# from sklearn.preprocessing import MultiLabelBinarizer\n",
    "\n",
    "# mlb = MultiLabelBinarizer(sparse_output=True)\n",
    "\n",
    "# df = df.join(\n",
    "#             pd.DataFrame.sparse.from_spmatrix(\n",
    "#                 mlb.fit_transform(df.pop('Col3')),\n",
    "#                 index=df.index,\n",
    "#                 columns=mlb.classes_))"
   ]
  },
  {
   "cell_type": "code",
   "execution_count": 141,
   "id": "977ead86",
   "metadata": {},
   "outputs": [],
   "source": [
    "#  split_df = pd.get_dummies(df.Label.str.split(\" \").explode())        \n"
   ]
  },
  {
   "cell_type": "code",
   "execution_count": 142,
   "id": "2def4fcf",
   "metadata": {},
   "outputs": [
    {
     "data": {
      "text/plain": [
       "Index(['Customer_ID', 'Gender', 'Age', 'Vintage', 'Is_Active', 'City_Category',\n",
       "       'Customer_Category', 'Product_Holding_B1', 'Product_Holding_B2'],\n",
       "      dtype='object')"
      ]
     },
     "execution_count": 142,
     "metadata": {},
     "output_type": "execute_result"
    }
   ],
   "source": [
    "df_train.columns"
   ]
  },
  {
   "cell_type": "code",
   "execution_count": 143,
   "id": "cbd3bde6",
   "metadata": {},
   "outputs": [
    {
     "data": {
      "text/plain": [
       "Customer_ID           0\n",
       "Gender                0\n",
       "Age                   0\n",
       "Vintage               0\n",
       "Is_Active             0\n",
       "City_Category         0\n",
       "Customer_Category     0\n",
       "Product_Holding_B1    0\n",
       "Product_Holding_B2    0\n",
       "dtype: int64"
      ]
     },
     "execution_count": 143,
     "metadata": {},
     "output_type": "execute_result"
    }
   ],
   "source": [
    "df_train.isnull().sum()"
   ]
  },
  {
   "cell_type": "code",
   "execution_count": 144,
   "id": "0e697769",
   "metadata": {},
   "outputs": [
    {
     "data": {
      "text/plain": [
       "Customer_ID           0\n",
       "Gender                0\n",
       "Age                   0\n",
       "Vintage               0\n",
       "Is_Active             0\n",
       "City_Category         0\n",
       "Customer_Category     0\n",
       "Product_Holding_B1    0\n",
       "dtype: int64"
      ]
     },
     "execution_count": 144,
     "metadata": {},
     "output_type": "execute_result"
    }
   ],
   "source": [
    "df_test.isnull().sum()"
   ]
  },
  {
   "cell_type": "code",
   "execution_count": 145,
   "id": "fd0c8c56",
   "metadata": {},
   "outputs": [
    {
     "data": {
      "text/plain": [
       "Index(['Customer_ID', 'Gender', 'Age', 'Vintage', 'Is_Active', 'City_Category',\n",
       "       'Customer_Category', 'Product_Holding_B1', 'Product_Holding_B2'],\n",
       "      dtype='object')"
      ]
     },
     "execution_count": 145,
     "metadata": {},
     "output_type": "execute_result"
    }
   ],
   "source": [
    "df_train.columns"
   ]
  },
  {
   "cell_type": "code",
   "execution_count": 146,
   "id": "d7fcac19",
   "metadata": {},
   "outputs": [
    {
     "data": {
      "text/plain": [
       "Gender                2\n",
       "Age                  36\n",
       "Vintage              64\n",
       "Is_Active             2\n",
       "City_Category         2\n",
       "Customer_Category     3\n",
       "dtype: int64"
      ]
     },
     "execution_count": 146,
     "metadata": {},
     "output_type": "execute_result"
    }
   ],
   "source": [
    "df_train[['Gender', 'Age', 'Vintage', 'Is_Active', 'City_Category','Customer_Category']].nunique()"
   ]
  },
  {
   "cell_type": "code",
   "execution_count": 147,
   "id": "e8a927a8",
   "metadata": {},
   "outputs": [
    {
     "data": {
      "text/html": [
       "<div>\n",
       "<style scoped>\n",
       "    .dataframe tbody tr th:only-of-type {\n",
       "        vertical-align: middle;\n",
       "    }\n",
       "\n",
       "    .dataframe tbody tr th {\n",
       "        vertical-align: top;\n",
       "    }\n",
       "\n",
       "    .dataframe thead th {\n",
       "        text-align: right;\n",
       "    }\n",
       "</style>\n",
       "<table border=\"1\" class=\"dataframe\">\n",
       "  <thead>\n",
       "    <tr style=\"text-align: right;\">\n",
       "      <th></th>\n",
       "      <th>Customer_ID</th>\n",
       "      <th>Gender</th>\n",
       "      <th>Age</th>\n",
       "      <th>Vintage</th>\n",
       "      <th>Is_Active</th>\n",
       "      <th>City_Category</th>\n",
       "      <th>Customer_Category</th>\n",
       "      <th>Product_Holding_B1</th>\n",
       "      <th>Product_Holding_B2</th>\n",
       "    </tr>\n",
       "  </thead>\n",
       "  <tbody>\n",
       "    <tr>\n",
       "      <th>0</th>\n",
       "      <td>CC264719</td>\n",
       "      <td>Male</td>\n",
       "      <td>41</td>\n",
       "      <td>14</td>\n",
       "      <td>0</td>\n",
       "      <td>C1</td>\n",
       "      <td>S3</td>\n",
       "      <td>[P16]</td>\n",
       "      <td>[P8]</td>\n",
       "    </tr>\n",
       "    <tr>\n",
       "      <th>1</th>\n",
       "      <td>CC209679</td>\n",
       "      <td>Female</td>\n",
       "      <td>47</td>\n",
       "      <td>14</td>\n",
       "      <td>1</td>\n",
       "      <td>C1</td>\n",
       "      <td>S2</td>\n",
       "      <td>[P13, P20]</td>\n",
       "      <td>[P3]</td>\n",
       "    </tr>\n",
       "    <tr>\n",
       "      <th>2</th>\n",
       "      <td>CC319633</td>\n",
       "      <td>Female</td>\n",
       "      <td>59</td>\n",
       "      <td>14</td>\n",
       "      <td>0</td>\n",
       "      <td>C2</td>\n",
       "      <td>S2</td>\n",
       "      <td>[P11]</td>\n",
       "      <td>[P00]</td>\n",
       "    </tr>\n",
       "    <tr>\n",
       "      <th>3</th>\n",
       "      <td>CC231413</td>\n",
       "      <td>Female</td>\n",
       "      <td>32</td>\n",
       "      <td>16</td>\n",
       "      <td>0</td>\n",
       "      <td>C1</td>\n",
       "      <td>S2</td>\n",
       "      <td>[P8, P13]</td>\n",
       "      <td>[P6]</td>\n",
       "    </tr>\n",
       "    <tr>\n",
       "      <th>4</th>\n",
       "      <td>CC259633</td>\n",
       "      <td>Male</td>\n",
       "      <td>30</td>\n",
       "      <td>15</td>\n",
       "      <td>0</td>\n",
       "      <td>C2</td>\n",
       "      <td>S3</td>\n",
       "      <td>[P16, P17, P21]</td>\n",
       "      <td>[P8, P12]</td>\n",
       "    </tr>\n",
       "  </tbody>\n",
       "</table>\n",
       "</div>"
      ],
      "text/plain": [
       "  Customer_ID  Gender  Age  Vintage  Is_Active City_Category  \\\n",
       "0    CC264719    Male   41       14          0            C1   \n",
       "1    CC209679  Female   47       14          1            C1   \n",
       "2    CC319633  Female   59       14          0            C2   \n",
       "3    CC231413  Female   32       16          0            C1   \n",
       "4    CC259633    Male   30       15          0            C2   \n",
       "\n",
       "  Customer_Category Product_Holding_B1 Product_Holding_B2  \n",
       "0                S3              [P16]               [P8]  \n",
       "1                S2         [P13, P20]               [P3]  \n",
       "2                S2              [P11]              [P00]  \n",
       "3                S2          [P8, P13]               [P6]  \n",
       "4                S3    [P16, P17, P21]          [P8, P12]  "
      ]
     },
     "execution_count": 147,
     "metadata": {},
     "output_type": "execute_result"
    }
   ],
   "source": [
    "df_train.head()"
   ]
  },
  {
   "cell_type": "code",
   "execution_count": 148,
   "id": "d8bacc3e",
   "metadata": {},
   "outputs": [
    {
     "data": {
      "text/plain": [
       "Gender                2\n",
       "Age                  36\n",
       "Vintage              63\n",
       "Is_Active             2\n",
       "City_Category         2\n",
       "Customer_Category     3\n",
       "dtype: int64"
      ]
     },
     "execution_count": 148,
     "metadata": {},
     "output_type": "execute_result"
    }
   ],
   "source": [
    "df_test[['Gender', 'Age', 'Vintage', 'Is_Active', 'City_Category','Customer_Category']].nunique()"
   ]
  },
  {
   "cell_type": "code",
   "execution_count": 149,
   "id": "783cec62",
   "metadata": {},
   "outputs": [
    {
     "data": {
      "text/plain": [
       "0             [P8]\n",
       "1             [P3]\n",
       "2            [P00]\n",
       "3             [P6]\n",
       "4        [P8, P12]\n",
       "           ...    \n",
       "37743         [P9]\n",
       "37744    [P5, P12]\n",
       "37745        [P13]\n",
       "37746         [P1]\n",
       "37747    [P8, P12]\n",
       "Name: Product_Holding_B2, Length: 37748, dtype: object"
      ]
     },
     "execution_count": 149,
     "metadata": {},
     "output_type": "execute_result"
    }
   ],
   "source": [
    "df_train.Product_Holding_B2"
   ]
  },
  {
   "cell_type": "code",
   "execution_count": null,
   "id": "be50c2d8",
   "metadata": {},
   "outputs": [],
   "source": []
  },
  {
   "cell_type": "code",
   "execution_count": 150,
   "id": "0ae1f15a",
   "metadata": {},
   "outputs": [],
   "source": [
    "# ---------"
   ]
  },
  {
   "cell_type": "code",
   "execution_count": 151,
   "id": "1f123756",
   "metadata": {},
   "outputs": [],
   "source": [
    "y = df_train['Product_Holding_B2']\n",
    "X = df_train.drop('Product_Holding_B2',axis=1)"
   ]
  },
  {
   "cell_type": "code",
   "execution_count": 152,
   "id": "3852fb31",
   "metadata": {},
   "outputs": [
    {
     "data": {
      "text/html": [
       "<div>\n",
       "<style scoped>\n",
       "    .dataframe tbody tr th:only-of-type {\n",
       "        vertical-align: middle;\n",
       "    }\n",
       "\n",
       "    .dataframe tbody tr th {\n",
       "        vertical-align: top;\n",
       "    }\n",
       "\n",
       "    .dataframe thead th {\n",
       "        text-align: right;\n",
       "    }\n",
       "</style>\n",
       "<table border=\"1\" class=\"dataframe\">\n",
       "  <thead>\n",
       "    <tr style=\"text-align: right;\">\n",
       "      <th></th>\n",
       "      <th>Customer_ID</th>\n",
       "      <th>Gender</th>\n",
       "      <th>Age</th>\n",
       "      <th>Vintage</th>\n",
       "      <th>Is_Active</th>\n",
       "      <th>City_Category</th>\n",
       "      <th>Customer_Category</th>\n",
       "      <th>Product_Holding_B1</th>\n",
       "    </tr>\n",
       "  </thead>\n",
       "  <tbody>\n",
       "    <tr>\n",
       "      <th>0</th>\n",
       "      <td>CC264719</td>\n",
       "      <td>Male</td>\n",
       "      <td>41</td>\n",
       "      <td>14</td>\n",
       "      <td>0</td>\n",
       "      <td>C1</td>\n",
       "      <td>S3</td>\n",
       "      <td>[P16]</td>\n",
       "    </tr>\n",
       "    <tr>\n",
       "      <th>1</th>\n",
       "      <td>CC209679</td>\n",
       "      <td>Female</td>\n",
       "      <td>47</td>\n",
       "      <td>14</td>\n",
       "      <td>1</td>\n",
       "      <td>C1</td>\n",
       "      <td>S2</td>\n",
       "      <td>[P13, P20]</td>\n",
       "    </tr>\n",
       "    <tr>\n",
       "      <th>2</th>\n",
       "      <td>CC319633</td>\n",
       "      <td>Female</td>\n",
       "      <td>59</td>\n",
       "      <td>14</td>\n",
       "      <td>0</td>\n",
       "      <td>C2</td>\n",
       "      <td>S2</td>\n",
       "      <td>[P11]</td>\n",
       "    </tr>\n",
       "    <tr>\n",
       "      <th>3</th>\n",
       "      <td>CC231413</td>\n",
       "      <td>Female</td>\n",
       "      <td>32</td>\n",
       "      <td>16</td>\n",
       "      <td>0</td>\n",
       "      <td>C1</td>\n",
       "      <td>S2</td>\n",
       "      <td>[P8, P13]</td>\n",
       "    </tr>\n",
       "    <tr>\n",
       "      <th>4</th>\n",
       "      <td>CC259633</td>\n",
       "      <td>Male</td>\n",
       "      <td>30</td>\n",
       "      <td>15</td>\n",
       "      <td>0</td>\n",
       "      <td>C2</td>\n",
       "      <td>S3</td>\n",
       "      <td>[P16, P17, P21]</td>\n",
       "    </tr>\n",
       "    <tr>\n",
       "      <th>...</th>\n",
       "      <td>...</td>\n",
       "      <td>...</td>\n",
       "      <td>...</td>\n",
       "      <td>...</td>\n",
       "      <td>...</td>\n",
       "      <td>...</td>\n",
       "      <td>...</td>\n",
       "      <td>...</td>\n",
       "    </tr>\n",
       "    <tr>\n",
       "      <th>37743</th>\n",
       "      <td>CC314217</td>\n",
       "      <td>Male</td>\n",
       "      <td>28</td>\n",
       "      <td>24</td>\n",
       "      <td>1</td>\n",
       "      <td>C1</td>\n",
       "      <td>S2</td>\n",
       "      <td>[P16]</td>\n",
       "    </tr>\n",
       "    <tr>\n",
       "      <th>37744</th>\n",
       "      <td>CC388747</td>\n",
       "      <td>Male</td>\n",
       "      <td>36</td>\n",
       "      <td>11</td>\n",
       "      <td>0</td>\n",
       "      <td>C2</td>\n",
       "      <td>S2</td>\n",
       "      <td>[P16, P17, P21]</td>\n",
       "    </tr>\n",
       "    <tr>\n",
       "      <th>37745</th>\n",
       "      <td>CC318056</td>\n",
       "      <td>Male</td>\n",
       "      <td>44</td>\n",
       "      <td>26</td>\n",
       "      <td>1</td>\n",
       "      <td>C2</td>\n",
       "      <td>S2</td>\n",
       "      <td>[P14]</td>\n",
       "    </tr>\n",
       "    <tr>\n",
       "      <th>37746</th>\n",
       "      <td>CC373551</td>\n",
       "      <td>Female</td>\n",
       "      <td>56</td>\n",
       "      <td>15</td>\n",
       "      <td>1</td>\n",
       "      <td>C1</td>\n",
       "      <td>S2</td>\n",
       "      <td>[P12, P13]</td>\n",
       "    </tr>\n",
       "    <tr>\n",
       "      <th>37747</th>\n",
       "      <td>CC269624</td>\n",
       "      <td>Male</td>\n",
       "      <td>29</td>\n",
       "      <td>13</td>\n",
       "      <td>0</td>\n",
       "      <td>C2</td>\n",
       "      <td>S2</td>\n",
       "      <td>[P16, P17]</td>\n",
       "    </tr>\n",
       "  </tbody>\n",
       "</table>\n",
       "<p>37748 rows × 8 columns</p>\n",
       "</div>"
      ],
      "text/plain": [
       "      Customer_ID  Gender  Age  Vintage  Is_Active City_Category  \\\n",
       "0        CC264719    Male   41       14          0            C1   \n",
       "1        CC209679  Female   47       14          1            C1   \n",
       "2        CC319633  Female   59       14          0            C2   \n",
       "3        CC231413  Female   32       16          0            C1   \n",
       "4        CC259633    Male   30       15          0            C2   \n",
       "...           ...     ...  ...      ...        ...           ...   \n",
       "37743    CC314217    Male   28       24          1            C1   \n",
       "37744    CC388747    Male   36       11          0            C2   \n",
       "37745    CC318056    Male   44       26          1            C2   \n",
       "37746    CC373551  Female   56       15          1            C1   \n",
       "37747    CC269624    Male   29       13          0            C2   \n",
       "\n",
       "      Customer_Category Product_Holding_B1  \n",
       "0                    S3              [P16]  \n",
       "1                    S2         [P13, P20]  \n",
       "2                    S2              [P11]  \n",
       "3                    S2          [P8, P13]  \n",
       "4                    S3    [P16, P17, P21]  \n",
       "...                 ...                ...  \n",
       "37743                S2              [P16]  \n",
       "37744                S2    [P16, P17, P21]  \n",
       "37745                S2              [P14]  \n",
       "37746                S2         [P12, P13]  \n",
       "37747                S2         [P16, P17]  \n",
       "\n",
       "[37748 rows x 8 columns]"
      ]
     },
     "execution_count": 152,
     "metadata": {},
     "output_type": "execute_result"
    }
   ],
   "source": [
    "X"
   ]
  },
  {
   "cell_type": "code",
   "execution_count": 153,
   "id": "f6220e1b",
   "metadata": {},
   "outputs": [],
   "source": [
    "from sklearn.preprocessing import MultiLabelBinarizer\n",
    "\n",
    "mlb = MultiLabelBinarizer(sparse_output=True)\n",
    "\n",
    "X = X.join(\n",
    "            pd.DataFrame.sparse.from_spmatrix(\n",
    "                mlb.fit_transform(X['Product_Holding_B1']),\n",
    "                index=X.index,\n",
    "                columns=mlb.classes_))\n",
    "\n",
    " \n",
    "df_test = df_test.join(\n",
    "            pd.DataFrame.sparse.from_spmatrix(\n",
    "                mlb.fit_transform(df_test['Product_Holding_B1']),\n",
    "                index=df_test.index,\n",
    "                columns=mlb.classes_))\n",
    "\n"
   ]
  },
  {
   "cell_type": "code",
   "execution_count": 154,
   "id": "968341f3",
   "metadata": {},
   "outputs": [
    {
     "data": {
      "text/plain": [
       "C1    18941\n",
       "C2    18807\n",
       "Name: City_Category, dtype: int64"
      ]
     },
     "execution_count": 154,
     "metadata": {},
     "output_type": "execute_result"
    }
   ],
   "source": [
    "X.City_Category.value_counts()"
   ]
  },
  {
   "cell_type": "code",
   "execution_count": 155,
   "id": "d2636e10",
   "metadata": {},
   "outputs": [
    {
     "data": {
      "text/plain": [
       "S3    17865\n",
       "S2    13265\n",
       "S1     6618\n",
       "Name: Customer_Category, dtype: int64"
      ]
     },
     "execution_count": 155,
     "metadata": {},
     "output_type": "execute_result"
    }
   ],
   "source": [
    "X.Customer_Category.value_counts()"
   ]
  },
  {
   "cell_type": "code",
   "execution_count": 156,
   "id": "8e3ba560",
   "metadata": {},
   "outputs": [],
   "source": [
    "X.Gender = X.Gender.map({'Male':0,'Female':1})\n",
    "X.City_Category = X.City_Category.map({'C1':0,'C2':1})\n",
    "X.Customer_Category = X.Customer_Category.map({'S1':0,'S2':1,'S3':2})"
   ]
  },
  {
   "cell_type": "code",
   "execution_count": 157,
   "id": "52e43ab3",
   "metadata": {},
   "outputs": [],
   "source": [
    "df_test.Gender = df_test.Gender.map({'Male':0,'Female':1})\n",
    "df_test.City_Category = df_test.City_Category.map({'C1':0,'C2':1})\n",
    "df_test.Customer_Category = df_test.Customer_Category.map({'S1':0,'S2':1,'S3':2})"
   ]
  },
  {
   "cell_type": "code",
   "execution_count": 158,
   "id": "cc26b198",
   "metadata": {},
   "outputs": [
    {
     "data": {
      "text/plain": [
       "Gender                2\n",
       "Age                  36\n",
       "Vintage              64\n",
       "Is_Active             2\n",
       "City_Category         2\n",
       "Customer_Category     3\n",
       "P00                   2\n",
       "P1                    2\n",
       "P10                   2\n",
       "P11                   2\n",
       "P12                   2\n",
       "P13                   2\n",
       "P14                   2\n",
       "P15                   2\n",
       "P16                   2\n",
       "P17                   2\n",
       "P18                   2\n",
       "P19                   2\n",
       "P2                    2\n",
       "P20                   2\n",
       "P21                   2\n",
       "P3                    2\n",
       "P4                    2\n",
       "P5                    2\n",
       "P6                    2\n",
       "P7                    2\n",
       "P8                    2\n",
       "P9                    2\n",
       "dtype: int64"
      ]
     },
     "execution_count": 158,
     "metadata": {},
     "output_type": "execute_result"
    }
   ],
   "source": [
    "X = X.drop(['Product_Holding_B1','Customer_ID'],axis=1)\n",
    "df_test = df_test.drop(['Product_Holding_B1','Customer_ID'],axis=1)\n",
    "X.nunique()"
   ]
  },
  {
   "cell_type": "code",
   "execution_count": 159,
   "id": "35dd9d03",
   "metadata": {},
   "outputs": [
    {
     "data": {
      "text/html": [
       "<div>\n",
       "<style scoped>\n",
       "    .dataframe tbody tr th:only-of-type {\n",
       "        vertical-align: middle;\n",
       "    }\n",
       "\n",
       "    .dataframe tbody tr th {\n",
       "        vertical-align: top;\n",
       "    }\n",
       "\n",
       "    .dataframe thead th {\n",
       "        text-align: right;\n",
       "    }\n",
       "</style>\n",
       "<table border=\"1\" class=\"dataframe\">\n",
       "  <thead>\n",
       "    <tr style=\"text-align: right;\">\n",
       "      <th></th>\n",
       "      <th>Gender</th>\n",
       "      <th>Age</th>\n",
       "      <th>Vintage</th>\n",
       "      <th>Is_Active</th>\n",
       "      <th>City_Category</th>\n",
       "      <th>Customer_Category</th>\n",
       "      <th>P00</th>\n",
       "      <th>P1</th>\n",
       "      <th>P10</th>\n",
       "      <th>P11</th>\n",
       "      <th>...</th>\n",
       "      <th>P2</th>\n",
       "      <th>P20</th>\n",
       "      <th>P21</th>\n",
       "      <th>P3</th>\n",
       "      <th>P4</th>\n",
       "      <th>P5</th>\n",
       "      <th>P6</th>\n",
       "      <th>P7</th>\n",
       "      <th>P8</th>\n",
       "      <th>P9</th>\n",
       "    </tr>\n",
       "  </thead>\n",
       "  <tbody>\n",
       "    <tr>\n",
       "      <th>0</th>\n",
       "      <td>0</td>\n",
       "      <td>41</td>\n",
       "      <td>14</td>\n",
       "      <td>0</td>\n",
       "      <td>0</td>\n",
       "      <td>2</td>\n",
       "      <td>0</td>\n",
       "      <td>0</td>\n",
       "      <td>0</td>\n",
       "      <td>0</td>\n",
       "      <td>...</td>\n",
       "      <td>0</td>\n",
       "      <td>0</td>\n",
       "      <td>0</td>\n",
       "      <td>0</td>\n",
       "      <td>0</td>\n",
       "      <td>0</td>\n",
       "      <td>0</td>\n",
       "      <td>0</td>\n",
       "      <td>0</td>\n",
       "      <td>0</td>\n",
       "    </tr>\n",
       "    <tr>\n",
       "      <th>1</th>\n",
       "      <td>1</td>\n",
       "      <td>47</td>\n",
       "      <td>14</td>\n",
       "      <td>1</td>\n",
       "      <td>0</td>\n",
       "      <td>1</td>\n",
       "      <td>0</td>\n",
       "      <td>0</td>\n",
       "      <td>0</td>\n",
       "      <td>0</td>\n",
       "      <td>...</td>\n",
       "      <td>0</td>\n",
       "      <td>1</td>\n",
       "      <td>0</td>\n",
       "      <td>0</td>\n",
       "      <td>0</td>\n",
       "      <td>0</td>\n",
       "      <td>0</td>\n",
       "      <td>0</td>\n",
       "      <td>0</td>\n",
       "      <td>0</td>\n",
       "    </tr>\n",
       "    <tr>\n",
       "      <th>2</th>\n",
       "      <td>1</td>\n",
       "      <td>59</td>\n",
       "      <td>14</td>\n",
       "      <td>0</td>\n",
       "      <td>1</td>\n",
       "      <td>1</td>\n",
       "      <td>0</td>\n",
       "      <td>0</td>\n",
       "      <td>0</td>\n",
       "      <td>1</td>\n",
       "      <td>...</td>\n",
       "      <td>0</td>\n",
       "      <td>0</td>\n",
       "      <td>0</td>\n",
       "      <td>0</td>\n",
       "      <td>0</td>\n",
       "      <td>0</td>\n",
       "      <td>0</td>\n",
       "      <td>0</td>\n",
       "      <td>0</td>\n",
       "      <td>0</td>\n",
       "    </tr>\n",
       "    <tr>\n",
       "      <th>3</th>\n",
       "      <td>1</td>\n",
       "      <td>32</td>\n",
       "      <td>16</td>\n",
       "      <td>0</td>\n",
       "      <td>0</td>\n",
       "      <td>1</td>\n",
       "      <td>0</td>\n",
       "      <td>0</td>\n",
       "      <td>0</td>\n",
       "      <td>0</td>\n",
       "      <td>...</td>\n",
       "      <td>0</td>\n",
       "      <td>0</td>\n",
       "      <td>0</td>\n",
       "      <td>0</td>\n",
       "      <td>0</td>\n",
       "      <td>0</td>\n",
       "      <td>0</td>\n",
       "      <td>0</td>\n",
       "      <td>1</td>\n",
       "      <td>0</td>\n",
       "    </tr>\n",
       "    <tr>\n",
       "      <th>4</th>\n",
       "      <td>0</td>\n",
       "      <td>30</td>\n",
       "      <td>15</td>\n",
       "      <td>0</td>\n",
       "      <td>1</td>\n",
       "      <td>2</td>\n",
       "      <td>0</td>\n",
       "      <td>0</td>\n",
       "      <td>0</td>\n",
       "      <td>0</td>\n",
       "      <td>...</td>\n",
       "      <td>0</td>\n",
       "      <td>0</td>\n",
       "      <td>1</td>\n",
       "      <td>0</td>\n",
       "      <td>0</td>\n",
       "      <td>0</td>\n",
       "      <td>0</td>\n",
       "      <td>0</td>\n",
       "      <td>0</td>\n",
       "      <td>0</td>\n",
       "    </tr>\n",
       "  </tbody>\n",
       "</table>\n",
       "<p>5 rows × 28 columns</p>\n",
       "</div>"
      ],
      "text/plain": [
       "   Gender  Age  Vintage  Is_Active  City_Category  Customer_Category  P00  P1  \\\n",
       "0       0   41       14          0              0                  2    0   0   \n",
       "1       1   47       14          1              0                  1    0   0   \n",
       "2       1   59       14          0              1                  1    0   0   \n",
       "3       1   32       16          0              0                  1    0   0   \n",
       "4       0   30       15          0              1                  2    0   0   \n",
       "\n",
       "   P10  P11  ...  P2  P20  P21  P3  P4  P5  P6  P7  P8  P9  \n",
       "0    0    0  ...   0    0    0   0   0   0   0   0   0   0  \n",
       "1    0    0  ...   0    1    0   0   0   0   0   0   0   0  \n",
       "2    0    1  ...   0    0    0   0   0   0   0   0   0   0  \n",
       "3    0    0  ...   0    0    0   0   0   0   0   0   1   0  \n",
       "4    0    0  ...   0    0    1   0   0   0   0   0   0   0  \n",
       "\n",
       "[5 rows x 28 columns]"
      ]
     },
     "execution_count": 159,
     "metadata": {},
     "output_type": "execute_result"
    }
   ],
   "source": [
    "X.head()"
   ]
  },
  {
   "cell_type": "code",
   "execution_count": 160,
   "id": "4133acb4",
   "metadata": {},
   "outputs": [],
   "source": [
    "from sklearn.preprocessing import StandardScaler"
   ]
  },
  {
   "cell_type": "markdown",
   "id": "c506c2c7",
   "metadata": {},
   "source": [
    "\n",
    "# Apply StandardScaler to parts of a data set"
   ]
  },
  {
   "cell_type": "markdown",
   "id": "071b0d2c",
   "metadata": {},
   "source": [
    "# https://stackoverflow.com/questions/38420847/apply-standardscaler-to-parts-of-a-data-set"
   ]
  },
  {
   "cell_type": "code",
   "execution_count": 161,
   "id": "cb75c577",
   "metadata": {},
   "outputs": [],
   "source": [
    "# scaled_features = X.copy()"
   ]
  },
  {
   "cell_type": "code",
   "execution_count": 162,
   "id": "bd6c3dd3",
   "metadata": {},
   "outputs": [],
   "source": [
    "# col_names = ['Age', 'Vintage']\n",
    "# features = scaled_features[col_names]\n",
    "# scaler = StandardScaler().fit(features.values)\n",
    "# features = scaler.transform(features.values)\n",
    "# df_test[col_names] = scaler.transform(df_test[col_names].values)\n",
    "# scaled_features[col_names] = features\n",
    "\n",
    "# X = scaled_features"
   ]
  },
  {
   "cell_type": "code",
   "execution_count": 163,
   "id": "1aa9202e",
   "metadata": {},
   "outputs": [],
   "source": [
    "scalar = StandardScaler()"
   ]
  },
  {
   "cell_type": "code",
   "execution_count": 164,
   "id": "873c354f",
   "metadata": {},
   "outputs": [],
   "source": [
    "X = scalar.fit_transform(X)\n",
    "df_test = scalar.transform(df_test)"
   ]
  },
  {
   "cell_type": "code",
   "execution_count": 165,
   "id": "c23628a4",
   "metadata": {},
   "outputs": [],
   "source": [
    "# X.head()"
   ]
  },
  {
   "cell_type": "code",
   "execution_count": 166,
   "id": "ef806a35",
   "metadata": {},
   "outputs": [],
   "source": [
    "# df_test.head()"
   ]
  },
  {
   "cell_type": "code",
   "execution_count": 167,
   "id": "0cecb30e",
   "metadata": {},
   "outputs": [
    {
     "data": {
      "text/plain": [
       "list"
      ]
     },
     "execution_count": 167,
     "metadata": {},
     "output_type": "execute_result"
    }
   ],
   "source": [
    "type(y[1])"
   ]
  },
  {
   "cell_type": "code",
   "execution_count": 168,
   "id": "9204e715",
   "metadata": {},
   "outputs": [],
   "source": [
    "# y = pd.DataFrame(y).reset_index()"
   ]
  },
  {
   "cell_type": "code",
   "execution_count": 169,
   "id": "f0e81cd6",
   "metadata": {},
   "outputs": [
    {
     "data": {
      "text/html": [
       "<div>\n",
       "<style scoped>\n",
       "    .dataframe tbody tr th:only-of-type {\n",
       "        vertical-align: middle;\n",
       "    }\n",
       "\n",
       "    .dataframe tbody tr th {\n",
       "        vertical-align: top;\n",
       "    }\n",
       "\n",
       "    .dataframe thead th {\n",
       "        text-align: right;\n",
       "    }\n",
       "</style>\n",
       "<table border=\"1\" class=\"dataframe\">\n",
       "  <thead>\n",
       "    <tr style=\"text-align: right;\">\n",
       "      <th></th>\n",
       "      <th>Product_Holding_B2</th>\n",
       "    </tr>\n",
       "  </thead>\n",
       "  <tbody>\n",
       "    <tr>\n",
       "      <th>0</th>\n",
       "      <td>[P8]</td>\n",
       "    </tr>\n",
       "    <tr>\n",
       "      <th>1</th>\n",
       "      <td>[P3]</td>\n",
       "    </tr>\n",
       "    <tr>\n",
       "      <th>2</th>\n",
       "      <td>[P00]</td>\n",
       "    </tr>\n",
       "    <tr>\n",
       "      <th>3</th>\n",
       "      <td>[P6]</td>\n",
       "    </tr>\n",
       "    <tr>\n",
       "      <th>4</th>\n",
       "      <td>[P8, P12]</td>\n",
       "    </tr>\n",
       "    <tr>\n",
       "      <th>...</th>\n",
       "      <td>...</td>\n",
       "    </tr>\n",
       "    <tr>\n",
       "      <th>37743</th>\n",
       "      <td>[P9]</td>\n",
       "    </tr>\n",
       "    <tr>\n",
       "      <th>37744</th>\n",
       "      <td>[P5, P12]</td>\n",
       "    </tr>\n",
       "    <tr>\n",
       "      <th>37745</th>\n",
       "      <td>[P13]</td>\n",
       "    </tr>\n",
       "    <tr>\n",
       "      <th>37746</th>\n",
       "      <td>[P1]</td>\n",
       "    </tr>\n",
       "    <tr>\n",
       "      <th>37747</th>\n",
       "      <td>[P8, P12]</td>\n",
       "    </tr>\n",
       "  </tbody>\n",
       "</table>\n",
       "<p>37748 rows × 1 columns</p>\n",
       "</div>"
      ],
      "text/plain": [
       "      Product_Holding_B2\n",
       "0                   [P8]\n",
       "1                   [P3]\n",
       "2                  [P00]\n",
       "3                   [P6]\n",
       "4              [P8, P12]\n",
       "...                  ...\n",
       "37743               [P9]\n",
       "37744          [P5, P12]\n",
       "37745              [P13]\n",
       "37746               [P1]\n",
       "37747          [P8, P12]\n",
       "\n",
       "[37748 rows x 1 columns]"
      ]
     },
     "execution_count": 169,
     "metadata": {},
     "output_type": "execute_result"
    }
   ],
   "source": [
    "y = pd.DataFrame(y)\n",
    "y"
   ]
  },
  {
   "cell_type": "code",
   "execution_count": 170,
   "id": "406eb767",
   "metadata": {},
   "outputs": [],
   "source": [
    "y=y.join(\n",
    "            pd.DataFrame.sparse.from_spmatrix(\n",
    "                mlb.fit_transform(y['Product_Holding_B2']),\n",
    "                index=y.index,\n",
    "                columns=mlb.classes_))\n",
    "\n",
    "y = y.drop(\"Product_Holding_B2\",axis=1)\n",
    "    "
   ]
  },
  {
   "cell_type": "code",
   "execution_count": 171,
   "id": "5f4faafa",
   "metadata": {},
   "outputs": [
    {
     "data": {
      "text/plain": [
       "numpy.ndarray"
      ]
     },
     "execution_count": 171,
     "metadata": {},
     "output_type": "execute_result"
    }
   ],
   "source": [
    "type(y.values)"
   ]
  },
  {
   "cell_type": "code",
   "execution_count": 172,
   "id": "82010f46",
   "metadata": {},
   "outputs": [
    {
     "data": {
      "text/plain": [
       "(37748, 20)"
      ]
     },
     "execution_count": 172,
     "metadata": {},
     "output_type": "execute_result"
    }
   ],
   "source": [
    "(np.array(y)).shape"
   ]
  },
  {
   "cell_type": "code",
   "execution_count": 173,
   "id": "98771dd6",
   "metadata": {},
   "outputs": [
    {
     "data": {
      "text/html": [
       "<div>\n",
       "<style scoped>\n",
       "    .dataframe tbody tr th:only-of-type {\n",
       "        vertical-align: middle;\n",
       "    }\n",
       "\n",
       "    .dataframe tbody tr th {\n",
       "        vertical-align: top;\n",
       "    }\n",
       "\n",
       "    .dataframe thead th {\n",
       "        text-align: right;\n",
       "    }\n",
       "</style>\n",
       "<table border=\"1\" class=\"dataframe\">\n",
       "  <thead>\n",
       "    <tr style=\"text-align: right;\">\n",
       "      <th></th>\n",
       "      <th>P00</th>\n",
       "      <th>P1</th>\n",
       "      <th>P10</th>\n",
       "      <th>P11</th>\n",
       "      <th>P12</th>\n",
       "      <th>P13</th>\n",
       "      <th>P14</th>\n",
       "      <th>P15</th>\n",
       "      <th>P16</th>\n",
       "      <th>P17</th>\n",
       "      <th>P18</th>\n",
       "      <th>P2</th>\n",
       "      <th>P20</th>\n",
       "      <th>P3</th>\n",
       "      <th>P4</th>\n",
       "      <th>P5</th>\n",
       "      <th>P6</th>\n",
       "      <th>P7</th>\n",
       "      <th>P8</th>\n",
       "      <th>P9</th>\n",
       "    </tr>\n",
       "  </thead>\n",
       "  <tbody>\n",
       "    <tr>\n",
       "      <th>0</th>\n",
       "      <td>0</td>\n",
       "      <td>0</td>\n",
       "      <td>0</td>\n",
       "      <td>0</td>\n",
       "      <td>0</td>\n",
       "      <td>0</td>\n",
       "      <td>0</td>\n",
       "      <td>0</td>\n",
       "      <td>0</td>\n",
       "      <td>0</td>\n",
       "      <td>0</td>\n",
       "      <td>0</td>\n",
       "      <td>0</td>\n",
       "      <td>0</td>\n",
       "      <td>0</td>\n",
       "      <td>0</td>\n",
       "      <td>0</td>\n",
       "      <td>0</td>\n",
       "      <td>1</td>\n",
       "      <td>0</td>\n",
       "    </tr>\n",
       "    <tr>\n",
       "      <th>1</th>\n",
       "      <td>0</td>\n",
       "      <td>0</td>\n",
       "      <td>0</td>\n",
       "      <td>0</td>\n",
       "      <td>0</td>\n",
       "      <td>0</td>\n",
       "      <td>0</td>\n",
       "      <td>0</td>\n",
       "      <td>0</td>\n",
       "      <td>0</td>\n",
       "      <td>0</td>\n",
       "      <td>0</td>\n",
       "      <td>0</td>\n",
       "      <td>1</td>\n",
       "      <td>0</td>\n",
       "      <td>0</td>\n",
       "      <td>0</td>\n",
       "      <td>0</td>\n",
       "      <td>0</td>\n",
       "      <td>0</td>\n",
       "    </tr>\n",
       "    <tr>\n",
       "      <th>2</th>\n",
       "      <td>1</td>\n",
       "      <td>0</td>\n",
       "      <td>0</td>\n",
       "      <td>0</td>\n",
       "      <td>0</td>\n",
       "      <td>0</td>\n",
       "      <td>0</td>\n",
       "      <td>0</td>\n",
       "      <td>0</td>\n",
       "      <td>0</td>\n",
       "      <td>0</td>\n",
       "      <td>0</td>\n",
       "      <td>0</td>\n",
       "      <td>0</td>\n",
       "      <td>0</td>\n",
       "      <td>0</td>\n",
       "      <td>0</td>\n",
       "      <td>0</td>\n",
       "      <td>0</td>\n",
       "      <td>0</td>\n",
       "    </tr>\n",
       "    <tr>\n",
       "      <th>3</th>\n",
       "      <td>0</td>\n",
       "      <td>0</td>\n",
       "      <td>0</td>\n",
       "      <td>0</td>\n",
       "      <td>0</td>\n",
       "      <td>0</td>\n",
       "      <td>0</td>\n",
       "      <td>0</td>\n",
       "      <td>0</td>\n",
       "      <td>0</td>\n",
       "      <td>0</td>\n",
       "      <td>0</td>\n",
       "      <td>0</td>\n",
       "      <td>0</td>\n",
       "      <td>0</td>\n",
       "      <td>0</td>\n",
       "      <td>1</td>\n",
       "      <td>0</td>\n",
       "      <td>0</td>\n",
       "      <td>0</td>\n",
       "    </tr>\n",
       "    <tr>\n",
       "      <th>4</th>\n",
       "      <td>0</td>\n",
       "      <td>0</td>\n",
       "      <td>0</td>\n",
       "      <td>0</td>\n",
       "      <td>1</td>\n",
       "      <td>0</td>\n",
       "      <td>0</td>\n",
       "      <td>0</td>\n",
       "      <td>0</td>\n",
       "      <td>0</td>\n",
       "      <td>0</td>\n",
       "      <td>0</td>\n",
       "      <td>0</td>\n",
       "      <td>0</td>\n",
       "      <td>0</td>\n",
       "      <td>0</td>\n",
       "      <td>0</td>\n",
       "      <td>0</td>\n",
       "      <td>1</td>\n",
       "      <td>0</td>\n",
       "    </tr>\n",
       "    <tr>\n",
       "      <th>...</th>\n",
       "      <td>...</td>\n",
       "      <td>...</td>\n",
       "      <td>...</td>\n",
       "      <td>...</td>\n",
       "      <td>...</td>\n",
       "      <td>...</td>\n",
       "      <td>...</td>\n",
       "      <td>...</td>\n",
       "      <td>...</td>\n",
       "      <td>...</td>\n",
       "      <td>...</td>\n",
       "      <td>...</td>\n",
       "      <td>...</td>\n",
       "      <td>...</td>\n",
       "      <td>...</td>\n",
       "      <td>...</td>\n",
       "      <td>...</td>\n",
       "      <td>...</td>\n",
       "      <td>...</td>\n",
       "      <td>...</td>\n",
       "    </tr>\n",
       "    <tr>\n",
       "      <th>37743</th>\n",
       "      <td>0</td>\n",
       "      <td>0</td>\n",
       "      <td>0</td>\n",
       "      <td>0</td>\n",
       "      <td>0</td>\n",
       "      <td>0</td>\n",
       "      <td>0</td>\n",
       "      <td>0</td>\n",
       "      <td>0</td>\n",
       "      <td>0</td>\n",
       "      <td>0</td>\n",
       "      <td>0</td>\n",
       "      <td>0</td>\n",
       "      <td>0</td>\n",
       "      <td>0</td>\n",
       "      <td>0</td>\n",
       "      <td>0</td>\n",
       "      <td>0</td>\n",
       "      <td>0</td>\n",
       "      <td>1</td>\n",
       "    </tr>\n",
       "    <tr>\n",
       "      <th>37744</th>\n",
       "      <td>0</td>\n",
       "      <td>0</td>\n",
       "      <td>0</td>\n",
       "      <td>0</td>\n",
       "      <td>1</td>\n",
       "      <td>0</td>\n",
       "      <td>0</td>\n",
       "      <td>0</td>\n",
       "      <td>0</td>\n",
       "      <td>0</td>\n",
       "      <td>0</td>\n",
       "      <td>0</td>\n",
       "      <td>0</td>\n",
       "      <td>0</td>\n",
       "      <td>0</td>\n",
       "      <td>1</td>\n",
       "      <td>0</td>\n",
       "      <td>0</td>\n",
       "      <td>0</td>\n",
       "      <td>0</td>\n",
       "    </tr>\n",
       "    <tr>\n",
       "      <th>37745</th>\n",
       "      <td>0</td>\n",
       "      <td>0</td>\n",
       "      <td>0</td>\n",
       "      <td>0</td>\n",
       "      <td>0</td>\n",
       "      <td>1</td>\n",
       "      <td>0</td>\n",
       "      <td>0</td>\n",
       "      <td>0</td>\n",
       "      <td>0</td>\n",
       "      <td>0</td>\n",
       "      <td>0</td>\n",
       "      <td>0</td>\n",
       "      <td>0</td>\n",
       "      <td>0</td>\n",
       "      <td>0</td>\n",
       "      <td>0</td>\n",
       "      <td>0</td>\n",
       "      <td>0</td>\n",
       "      <td>0</td>\n",
       "    </tr>\n",
       "    <tr>\n",
       "      <th>37746</th>\n",
       "      <td>0</td>\n",
       "      <td>1</td>\n",
       "      <td>0</td>\n",
       "      <td>0</td>\n",
       "      <td>0</td>\n",
       "      <td>0</td>\n",
       "      <td>0</td>\n",
       "      <td>0</td>\n",
       "      <td>0</td>\n",
       "      <td>0</td>\n",
       "      <td>0</td>\n",
       "      <td>0</td>\n",
       "      <td>0</td>\n",
       "      <td>0</td>\n",
       "      <td>0</td>\n",
       "      <td>0</td>\n",
       "      <td>0</td>\n",
       "      <td>0</td>\n",
       "      <td>0</td>\n",
       "      <td>0</td>\n",
       "    </tr>\n",
       "    <tr>\n",
       "      <th>37747</th>\n",
       "      <td>0</td>\n",
       "      <td>0</td>\n",
       "      <td>0</td>\n",
       "      <td>0</td>\n",
       "      <td>1</td>\n",
       "      <td>0</td>\n",
       "      <td>0</td>\n",
       "      <td>0</td>\n",
       "      <td>0</td>\n",
       "      <td>0</td>\n",
       "      <td>0</td>\n",
       "      <td>0</td>\n",
       "      <td>0</td>\n",
       "      <td>0</td>\n",
       "      <td>0</td>\n",
       "      <td>0</td>\n",
       "      <td>0</td>\n",
       "      <td>0</td>\n",
       "      <td>1</td>\n",
       "      <td>0</td>\n",
       "    </tr>\n",
       "  </tbody>\n",
       "</table>\n",
       "<p>37748 rows × 20 columns</p>\n",
       "</div>"
      ],
      "text/plain": [
       "       P00  P1  P10  P11  P12  P13  P14  P15  P16  P17  P18  P2  P20  P3  P4  \\\n",
       "0        0   0    0    0    0    0    0    0    0    0    0   0    0   0   0   \n",
       "1        0   0    0    0    0    0    0    0    0    0    0   0    0   1   0   \n",
       "2        1   0    0    0    0    0    0    0    0    0    0   0    0   0   0   \n",
       "3        0   0    0    0    0    0    0    0    0    0    0   0    0   0   0   \n",
       "4        0   0    0    0    1    0    0    0    0    0    0   0    0   0   0   \n",
       "...    ...  ..  ...  ...  ...  ...  ...  ...  ...  ...  ...  ..  ...  ..  ..   \n",
       "37743    0   0    0    0    0    0    0    0    0    0    0   0    0   0   0   \n",
       "37744    0   0    0    0    1    0    0    0    0    0    0   0    0   0   0   \n",
       "37745    0   0    0    0    0    1    0    0    0    0    0   0    0   0   0   \n",
       "37746    0   1    0    0    0    0    0    0    0    0    0   0    0   0   0   \n",
       "37747    0   0    0    0    1    0    0    0    0    0    0   0    0   0   0   \n",
       "\n",
       "       P5  P6  P7  P8  P9  \n",
       "0       0   0   0   1   0  \n",
       "1       0   0   0   0   0  \n",
       "2       0   0   0   0   0  \n",
       "3       0   1   0   0   0  \n",
       "4       0   0   0   1   0  \n",
       "...    ..  ..  ..  ..  ..  \n",
       "37743   0   0   0   0   1  \n",
       "37744   1   0   0   0   0  \n",
       "37745   0   0   0   0   0  \n",
       "37746   0   0   0   0   0  \n",
       "37747   0   0   0   1   0  \n",
       "\n",
       "[37748 rows x 20 columns]"
      ]
     },
     "execution_count": 173,
     "metadata": {},
     "output_type": "execute_result"
    }
   ],
   "source": [
    "y"
   ]
  },
  {
   "cell_type": "code",
   "execution_count": 174,
   "id": "ec5c2499",
   "metadata": {},
   "outputs": [],
   "source": [
    "from sklearn.ensemble import GradientBoostingClassifier\n",
    "# from sklearn.model_selection import GridSearchCV\n",
    "# param_grid = {\"n_estimators\":[1,5,10,20,40,100],'max_depth':[3,4,5,6]}\n",
    "# gb_model = GradientBoostingClassifier()\n",
    "# grid = GridSearchCV(gb_model,param_grid)"
   ]
  },
  {
   "cell_type": "code",
   "execution_count": 175,
   "id": "7aefb6aa",
   "metadata": {},
   "outputs": [],
   "source": [
    "# class skmultilearn.problem_transform.LabelPowerset(classifier=None, require_dense=None)"
   ]
  },
  {
   "cell_type": "code",
   "execution_count": 176,
   "id": "1a05159b",
   "metadata": {},
   "outputs": [
    {
     "data": {
      "text/plain": [
       "(37748, 20)"
      ]
     },
     "execution_count": 176,
     "metadata": {},
     "output_type": "execute_result"
    }
   ],
   "source": [
    "y.shape\n",
    "\n"
   ]
  },
  {
   "cell_type": "code",
   "execution_count": null,
   "id": "bec83ff2",
   "metadata": {},
   "outputs": [],
   "source": []
  },
  {
   "cell_type": "code",
   "execution_count": 177,
   "id": "df46309a",
   "metadata": {},
   "outputs": [],
   "source": [
    "# dir(LabelPowerset)"
   ]
  },
  {
   "cell_type": "markdown",
   "id": "c71fee5b",
   "metadata": {},
   "source": [
    "## Adaptive method"
   ]
  },
  {
   "cell_type": "code",
   "execution_count": 178,
   "id": "e6425fa8",
   "metadata": {},
   "outputs": [],
   "source": [
    "def mknn(X,y):\n",
    "    from skmultilearn.adapt import MLkNN\n",
    "\n",
    "    classifier = MLkNN(k=20)\n",
    "\n",
    "    # train\n",
    "    classifier.fit(X,y)\n",
    "    \n",
    "# mknn(X,y.values)"
   ]
  },
  {
   "cell_type": "code",
   "execution_count": 179,
   "id": "76cf8a2c",
   "metadata": {},
   "outputs": [],
   "source": [
    "# from sklearn.model_selection import GridSearchCV"
   ]
  },
  {
   "cell_type": "code",
   "execution_count": 180,
   "id": "90141f2b",
   "metadata": {},
   "outputs": [],
   "source": [
    "# param_grid = {'k': range(1,25), 's': [0.5, 0.7, 1.0] }"
   ]
  },
  {
   "cell_type": "code",
   "execution_count": 184,
   "id": "fdb30fcc",
   "metadata": {},
   "outputs": [],
   "source": [
    "#dont run, taking to long time and resousrces\n",
    "# from skmultilearn.adapt import MLkNN\n",
    "\n",
    "# classifier = GridSearchCV(MLkNN(), param_grid, scoring='f1_macro',verbose=1)\n",
    "# classifier.fit(X, y.values)  "
   ]
  },
  {
   "cell_type": "code",
   "execution_count": null,
   "id": "ed2e8060",
   "metadata": {},
   "outputs": [],
   "source": [
    "classifier.best_params_"
   ]
  },
  {
   "cell_type": "code",
   "execution_count": null,
   "id": "e1fe56fe",
   "metadata": {},
   "outputs": [],
   "source": []
  },
  {
   "cell_type": "code",
   "execution_count": null,
   "id": "724c4edf",
   "metadata": {},
   "outputs": [],
   "source": [
    "# run form below for models"
   ]
  },
  {
   "cell_type": "markdown",
   "id": "e6c53d01",
   "metadata": {},
   "source": [
    "## Ensamble classifier"
   ]
  },
  {
   "cell_type": "code",
   "execution_count": null,
   "id": "fd1431ce",
   "metadata": {},
   "outputs": [],
   "source": [
    "def enes(X,y):\n",
    "    from scipy.sparse import csr_matrix\n",
    "    X = csr_matrix(X)\n",
    "    from skmultilearn.ensemble import MajorityVotingClassifier\n",
    "    from skmultilearn.problem_transform import BinaryRelevance\n",
    "    from sklearn.ensemble import RandomForestClassifier\n",
    "    classifier = MajorityVotingClassifier(\n",
    "        classifier = BinaryRelevance(\n",
    "        classifier = RandomForestClassifier(),\n",
    "        require_dense = [False, True]\n",
    "    )\n",
    "#         clusterer  = NetworkXLabelGraphClusterer(graph_builder, method='louvain')\n",
    "    )\n",
    "\n",
    "    \n",
    "    classifier.fit(X,y)\n"
   ]
  },
  {
   "cell_type": "code",
   "execution_count": null,
   "id": "05e06c89",
   "metadata": {},
   "outputs": [],
   "source": [
    "# # !pip install skmultilearn \n",
    "# # !pip install --upgrade pip\n",
    "# # !pip list\n",
    "# import skmultilearn\n",
    "# dir(skmultilearn.cluster)"
   ]
  },
  {
   "cell_type": "code",
   "execution_count": null,
   "id": "614919e5",
   "metadata": {},
   "outputs": [],
   "source": [
    "# from skmultilearn.cluster import MatrixLabelSpaceClusterer\n",
    "# from skmultilearn.ensemble import LabelSpacePartitioningClassifier\n",
    "# from skmultilearn.problem_transform import BinaryRelevance\n",
    "# from sklearn.ensemble import RandomForestClassifier\n",
    "# from scipy.sparse import csr_matrix\n",
    "# X = csr_matrix(X)\n",
    "# classifier = LabelSpacePartitioningClassifier(\n",
    "#     classifier = BinaryRelevance(\n",
    "#     classifier = RandomForestClassifier(),\n",
    "#     require_dense = [False, True]\n",
    "# ),\n",
    "#     clusterer  = MatrixLabelSpaceClusterer(graph_builder, method='louvain')\n",
    "# )\n",
    "\n",
    "\n",
    "# classifier.fit(X,y)\n",
    "\n"
   ]
  },
  {
   "cell_type": "code",
   "execution_count": null,
   "id": "bff17ce0",
   "metadata": {},
   "outputs": [],
   "source": [
    "# enes(X,y)"
   ]
  },
  {
   "cell_type": "code",
   "execution_count": null,
   "id": "da2975fc",
   "metadata": {},
   "outputs": [],
   "source": [
    "predictions = classifier.predict(df_test)"
   ]
  },
  {
   "cell_type": "code",
   "execution_count": null,
   "id": "db4c891f",
   "metadata": {},
   "outputs": [],
   "source": [
    "s = predictions.toarray()"
   ]
  },
  {
   "cell_type": "markdown",
   "id": "c002caf2",
   "metadata": {},
   "source": [
    "## https://xang1234.github.io/multi-label/"
   ]
  },
  {
   "cell_type": "code",
   "execution_count": null,
   "id": "aeac2ed0",
   "metadata": {},
   "outputs": [],
   "source": [
    "s"
   ]
  },
  {
   "cell_type": "code",
   "execution_count": null,
   "id": "d46c6645",
   "metadata": {},
   "outputs": [],
   "source": [
    "pred  = pd.DataFrame(s,columns =y.columns) "
   ]
  },
  {
   "cell_type": "code",
   "execution_count": null,
   "id": "99af8f75",
   "metadata": {},
   "outputs": [],
   "source": [
    "# y.columns\n",
    "# # Index(['P00', 'P1', 'P10', 'P11', 'P12', 'P13', 'P14', 'P15', 'P16', 'P17',\n",
    "# #        'P18', 'P2', 'P20', 'P3', 'P4', 'P5', 'P6', 'P7', 'P8', 'P9'],\n",
    "# #       dtype='object')"
   ]
  },
  {
   "cell_type": "code",
   "execution_count": null,
   "id": "0142961c",
   "metadata": {},
   "outputs": [],
   "source": [
    "pred.head()"
   ]
  },
  {
   "cell_type": "code",
   "execution_count": null,
   "id": "e1185725",
   "metadata": {},
   "outputs": [],
   "source": [
    "# pred.where()"
   ]
  },
  {
   "cell_type": "code",
   "execution_count": null,
   "id": "09449bb0",
   "metadata": {},
   "outputs": [],
   "source": [
    "pred.loc[200]"
   ]
  },
  {
   "cell_type": "code",
   "execution_count": null,
   "id": "f21ab51d",
   "metadata": {},
   "outputs": [],
   "source": [
    "# pred.where(pred == 1)"
   ]
  },
  {
   "cell_type": "code",
   "execution_count": null,
   "id": "8c94bd39",
   "metadata": {},
   "outputs": [],
   "source": [
    "# ks = []\n",
    "ss = []\n",
    "for k,v in pred.iteritems():\n",
    "#     m.append(k:v.map({1:k}))\n",
    "#     print(\"k:\",k)\n",
    "#     ks.append(k)#not required as series object itself has name\n",
    "#     print(\"ser:\",v.map({1:v.name,0:0}))\n",
    "#     ss.append(v.map({1:k,0:0}))\n",
    "    ss.append(v.map({1:v.name,0:0}))"
   ]
  },
  {
   "cell_type": "code",
   "execution_count": null,
   "id": "a4f96c13",
   "metadata": {},
   "outputs": [],
   "source": [
    "# len(ks)"
   ]
  },
  {
   "cell_type": "code",
   "execution_count": null,
   "id": "e4e90a6c",
   "metadata": {},
   "outputs": [],
   "source": [
    "ss[0].name, ss[0]"
   ]
  },
  {
   "cell_type": "code",
   "execution_count": null,
   "id": "f65114c7",
   "metadata": {},
   "outputs": [],
   "source": [
    "final = pd.concat(ss,axis=1)"
   ]
  },
  {
   "cell_type": "code",
   "execution_count": null,
   "id": "d19337f6",
   "metadata": {},
   "outputs": [],
   "source": [
    "final.head()"
   ]
  },
  {
   "cell_type": "code",
   "execution_count": null,
   "id": "74e3c936",
   "metadata": {},
   "outputs": [],
   "source": [
    "n =pd.DataFrame(final.apply(lambda x: [i for i in x if i in final.columns],axis=1))"
   ]
  },
  {
   "cell_type": "code",
   "execution_count": null,
   "id": "ebf61a98",
   "metadata": {},
   "outputs": [],
   "source": [
    "output = pd.concat([tst.Customer_ID,n],axis=1)"
   ]
  },
  {
   "cell_type": "code",
   "execution_count": null,
   "id": "47f3f8d4",
   "metadata": {},
   "outputs": [],
   "source": [
    "output.columns = [\"Customer_ID\", \"Product_Holding_B2\"]"
   ]
  },
  {
   "cell_type": "code",
   "execution_count": null,
   "id": "56055e9b",
   "metadata": {},
   "outputs": [],
   "source": [
    "output.Product_Holding_B2 = output.Product_Holding_B2.astype('str')"
   ]
  },
  {
   "cell_type": "code",
   "execution_count": null,
   "id": "d45d067d",
   "metadata": {},
   "outputs": [],
   "source": [
    "output.head()"
   ]
  },
  {
   "cell_type": "code",
   "execution_count": null,
   "id": "d506bf29",
   "metadata": {},
   "outputs": [],
   "source": [
    "output.to_csv('submission4.csv', index=False)"
   ]
  },
  {
   "cell_type": "code",
   "execution_count": null,
   "id": "c92a8115",
   "metadata": {},
   "outputs": [],
   "source": [
    "SAM.Product_Holding_B2[0]"
   ]
  },
  {
   "cell_type": "code",
   "execution_count": null,
   "id": "651d3b41",
   "metadata": {},
   "outputs": [],
   "source": [
    "SAM"
   ]
  },
  {
   "cell_type": "code",
   "execution_count": null,
   "id": "ea43e036",
   "metadata": {},
   "outputs": [],
   "source": [
    "output"
   ]
  },
  {
   "cell_type": "markdown",
   "id": "d1c01c5a",
   "metadata": {},
   "source": [
    "## Testing"
   ]
  },
  {
   "cell_type": "code",
   "execution_count": null,
   "id": "f3927ac0",
   "metadata": {},
   "outputs": [],
   "source": [
    "[i for i in final.loc[200] if i in final.columns]"
   ]
  },
  {
   "cell_type": "code",
   "execution_count": null,
   "id": "f5300005",
   "metadata": {},
   "outputs": [],
   "source": [
    "final.iloc[200] "
   ]
  },
  {
   "cell_type": "code",
   "execution_count": null,
   "id": "a6ac8810",
   "metadata": {},
   "outputs": [],
   "source": [
    "type(final.iloc[0][-1])"
   ]
  },
  {
   "cell_type": "code",
   "execution_count": null,
   "id": "9474a2a9",
   "metadata": {},
   "outputs": [],
   "source": [
    "l = pd.DataFrame({'k':[1,2,1,3,4],'j':[1,2,1,3,4]})"
   ]
  },
  {
   "cell_type": "code",
   "execution_count": null,
   "id": "2c6142d6",
   "metadata": {},
   "outputs": [],
   "source": [
    "# pd.concat([m,l])"
   ]
  },
  {
   "cell_type": "code",
   "execution_count": null,
   "id": "56e3e72a",
   "metadata": {},
   "outputs": [],
   "source": [
    "h  = pd.DataFrame(pd.Series({'p1':0,'p2':1,'p3':1})).T\n",
    "h"
   ]
  },
  {
   "cell_type": "code",
   "execution_count": null,
   "id": "16722225",
   "metadata": {},
   "outputs": [],
   "source": [
    "h = pd.concat([h,h])\n",
    "h =h.reset_index(drop=True)"
   ]
  },
  {
   "cell_type": "code",
   "execution_count": null,
   "id": "bd7aa7c3",
   "metadata": {},
   "outputs": [],
   "source": [
    "pd.Series((1,1,0,1,1)).map({1:2})"
   ]
  },
  {
   "cell_type": "code",
   "execution_count": null,
   "id": "4f20a1a1",
   "metadata": {},
   "outputs": [],
   "source": [
    "for key, value in h.iteritems():\n",
    "    print('Key is :', key)\n",
    "    print('Value is:\\n', value.map({1:key,0:0}), '\\n')"
   ]
  },
  {
   "cell_type": "code",
   "execution_count": null,
   "id": "210a1148",
   "metadata": {},
   "outputs": [],
   "source": [
    "y.values"
   ]
  },
  {
   "cell_type": "code",
   "execution_count": null,
   "id": "c9641a50",
   "metadata": {},
   "outputs": [],
   "source": [
    "y.head()"
   ]
  },
  {
   "cell_type": "code",
   "execution_count": null,
   "id": "62b51565",
   "metadata": {},
   "outputs": [],
   "source": [
    "# from scipy.sparse import csr_matrix\n",
    "# y = csr_matrix(y)"
   ]
  },
  {
   "cell_type": "markdown",
   "id": "19218732",
   "metadata": {},
   "source": [
    "# Models  "
   ]
  },
  {
   "cell_type": "markdown",
   "id": "684ede8d",
   "metadata": {},
   "source": [
    "# Ensembles of Classifiers"
   ]
  },
  {
   "cell_type": "code",
   "execution_count": null,
   "id": "058b0296",
   "metadata": {},
   "outputs": [],
   "source": []
  },
  {
   "cell_type": "code",
   "execution_count": null,
   "id": "d1fe6319",
   "metadata": {},
   "outputs": [],
   "source": []
  },
  {
   "cell_type": "code",
   "execution_count": null,
   "id": "69e763ce",
   "metadata": {},
   "outputs": [],
   "source": []
  },
  {
   "cell_type": "code",
   "execution_count": null,
   "id": "fc56e48c",
   "metadata": {},
   "outputs": [],
   "source": [
    "#  split_df = pd.get_dummies(df.Product_Holding_B2.str.replace('[','').str.replace(']','').str.split(\",\").explode())\n",
    "# split_df.columns"
   ]
  },
  {
   "cell_type": "code",
   "execution_count": null,
   "id": "f260ccdb",
   "metadata": {},
   "outputs": [],
   "source": []
  }
 ],
 "metadata": {
  "kernelspec": {
   "display_name": "Python 3",
   "language": "python",
   "name": "python3"
  },
  "language_info": {
   "codemirror_mode": {
    "name": "ipython",
    "version": 3
   },
   "file_extension": ".py",
   "mimetype": "text/x-python",
   "name": "python",
   "nbconvert_exporter": "python",
   "pygments_lexer": "ipython3",
   "version": "3.8.8"
  }
 },
 "nbformat": 4,
 "nbformat_minor": 5
}
